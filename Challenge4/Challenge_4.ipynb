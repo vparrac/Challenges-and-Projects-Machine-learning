{
 "cells": [
  {
   "cell_type": "markdown",
   "metadata": {},
   "source": [
    "# Challenge 4\n",
    "\n",
    "## Description\n",
    "In this challenge we have a diverse numerical attributes for a white wine and a quality, we want predict the quality of new wines with a linear regression.\n",
    "## Dependencies\n",
    "To run this code is necessary numpy and sklearn libraries.\n",
    "## Data cleansing\n",
    "Before to load the data to python, it was necessary clean data set. For this purpose I delete the _String_ attributes things that are not necessary for our problem.\n",
    "\n",
    "Then, I load the data with the following code:"
   ]
  },
  {
   "cell_type": "code",
   "execution_count": 1,
   "metadata": {},
   "outputs": [
    {
     "name": "stdout",
     "output_type": "stream",
     "text": [
      "[[ 7.    0.27  0.36 ...  0.45  8.8   6.  ]\n",
      " [ 6.3   0.3   0.34 ...  0.49  9.5   6.  ]\n",
      " [ 8.1   0.28  0.4  ...  0.44 10.1   6.  ]\n",
      " ...\n",
      " [ 6.5   0.24  0.19 ...  0.46  9.4   6.  ]\n",
      " [ 5.5   0.29  0.3  ...  0.38 12.8   7.  ]\n",
      " [ 6.    0.21  0.38 ...  0.32 11.8   6.  ]]\n"
     ]
    }
   ],
   "source": [
    "import numpy as np\n",
    "from sklearn.metrics import mean_squared_error\n",
    "import random\n",
    "import pdb\n",
    "from sklearn.metrics import r2_score\n",
    "\n",
    "# import data\n",
    "data = np.genfromtxt('white_wine_clean_data.csv', delimiter=';')\n",
    "print(data)"
   ]
  },
  {
   "cell_type": "markdown",
   "metadata": {},
   "source": [
    "It is necessary separate the data of the class:"
   ]
  },
  {
   "cell_type": "code",
   "execution_count": 2,
   "metadata": {
    "scrolled": true
   },
   "outputs": [],
   "source": [
    "labels= data[:,-1]\n",
    "features = data[:,:-1]"
   ]
  },
  {
   "cell_type": "markdown",
   "metadata": {},
   "source": [
    "I separate the testing set of training set"
   ]
  },
  {
   "cell_type": "code",
   "execution_count": 3,
   "metadata": {},
   "outputs": [],
   "source": [
    "X_train, X_test, y_train, y_test = (lambda X, y: (X[:-2000],X[-2000:],y[:-2000],y[-2000:]))(features,labels)"
   ]
  },
  {
   "cell_type": "markdown",
   "metadata": {},
   "source": [
    "I implemented the SDG algorithm to the linear problem. To select the learning rate I variate manually this parameter, I noticed that in a big values of this parameter the method began to diverge, so I iterate and at the end i noticed that the bigger number that the algortithm toletare was 1e-5. "
   ]
  },
  {
   "cell_type": "code",
   "execution_count": 4,
   "metadata": {},
   "outputs": [
    {
     "name": "stdout",
     "output_type": "stream",
     "text": [
      "[ 0.0220022  -0.15536854  0.03790861  0.02733199  0.0099879   0.010155\n",
      " -0.00190257  0.09807331  0.34469802  0.10432373  0.40125537]\n"
     ]
    }
   ],
   "source": [
    "size = len(features[0])\n",
    "w0 = np.array([1e-2]*size)\n",
    "\n",
    "num = 1e-5\n",
    "for i in range(1000000):\n",
    "    randElem = random.choice(data)\n",
    "    xi, yi = (randElem[:-1],randElem[-1])\n",
    "    g = np.dot(w0,xi)\n",
    "    e = g - yi\n",
    "    w1 = w0 - num*e*xi\n",
    "    #err = np.linalg.norm(w1-w0)\n",
    "    w0 = np.copy(w1)\n",
    "print(w0)"
   ]
  },
  {
   "cell_type": "markdown",
   "metadata": {},
   "source": [
    "To validate the model I predict the new classes with the model.  The prediction are a continous variable but our class was a integer variable, for the nature of the data is very probable that linear regression is not the best way to predict the class."
   ]
  },
  {
   "cell_type": "code",
   "execution_count": 5,
   "metadata": {},
   "outputs": [],
   "source": [
    "predictions = []\n",
    "for x in X_test:\n",
    "    y = np.dot(w0,x)\n",
    "    predictions.append(y)\n",
    "predictions = np.array(predictions)"
   ]
  },
  {
   "cell_type": "markdown",
   "metadata": {},
   "source": [
    "One of the best indicators of linear regresión is the $R^2$ number, we can use this to evaluate our model"
   ]
  },
  {
   "cell_type": "code",
   "execution_count": 6,
   "metadata": {},
   "outputs": [
    {
     "data": {
      "text/plain": [
       "0.2090417482672795"
      ]
     },
     "execution_count": 6,
     "metadata": {},
     "output_type": "execute_result"
    }
   ],
   "source": [
    "r2_score(y_test,predictions)"
   ]
  },
  {
   "cell_type": "markdown",
   "metadata": {},
   "source": [
    "We have a small value of $R^2$, but we can prevent this result when we see the predictions. In conclusion our data is not a linear function, out class is a discrete variable that can not be modelate with a continous function. This results are less accurate than SKLearn results in the Challenge 3, this implies that SKLearn use mode accurate methodologies to Linear Regresion, the most probable is the Maximum likelihood estimation. Nevetheless our results are similar."
   ]
  },
  {
   "cell_type": "markdown",
   "metadata": {},
   "source": [
    "#### Valerie Parra Cortés\n",
    "201619703"
   ]
  }
 ],
 "metadata": {
  "kernelspec": {
   "display_name": "Python 3",
   "language": "python",
   "name": "python3"
  },
  "language_info": {
   "codemirror_mode": {
    "name": "ipython",
    "version": 3
   },
   "file_extension": ".py",
   "mimetype": "text/x-python",
   "name": "python",
   "nbconvert_exporter": "python",
   "pygments_lexer": "ipython3",
   "version": "3.7.4"
  }
 },
 "nbformat": 4,
 "nbformat_minor": 2
}
