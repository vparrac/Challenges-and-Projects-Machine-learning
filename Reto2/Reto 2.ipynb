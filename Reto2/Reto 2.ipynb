{
 "cells": [
  {
   "cell_type": "markdown",
   "metadata": {},
   "source": [
    "# Reto 2\n",
    "## Acondicionamiento de datos\n",
    "Antes de cargar los datos a python, se realizó un acondicionamiento de los datos. Para esto se eliminaron los géneros que no eran de nuestro interés, los atributos tipo String y se selecciono que Jazz & Blues era la clase 0 y Soul and Reggae era la clase 1."
   ]
  },
  {
   "cell_type": "code",
   "execution_count": 1,
   "metadata": {
    "scrolled": true
   },
   "outputs": [
    {
     "name": "stdout",
     "output_type": "stream",
     "text": [
      "[[  0.        -18.996      89.147     ... 233.2061668 261.8507034\n",
      "  240.8341773]\n",
      " [  0.        -19.347     125.825     ... 227.2751235 261.6435705\n",
      "  332.3565357]\n",
      " [  0.         -9.472     121.707     ... 549.4932104 481.1490487\n",
      "  442.6631363]\n",
      " ...\n",
      " [  1.         -9.494      88.976     ... 519.5277339 538.8958561\n",
      "  313.7759336]\n",
      " [  1.         -7.617      67.929     ... 591.8530481 598.0540909\n",
      "  443.8938068]\n",
      " [  1.        -11.774      85.176     ... 659.3214217 531.8501981\n",
      "  607.2159613]]\n"
     ]
    }
   ],
   "source": [
    "import numpy as np\n",
    "from sklearn.model_selection import train_test_split\n",
    "from sklearn.metrics import confusion_matrix\n",
    "from sklearn.metrics import accuracy_score\n",
    "import random\n",
    "import math\n",
    "\n",
    "#importar los datos\n",
    "data = np.genfromtxt('clean_data.csv', delimiter=';')\n",
    "print(data)"
   ]
  },
  {
   "cell_type": "code",
   "execution_count": 2,
   "metadata": {
    "scrolled": true
   },
   "outputs": [],
   "source": [
    "labels= data[:,0]\n",
    "features = data[:,1:]"
   ]
  },
  {
   "cell_type": "code",
   "execution_count": 3,
   "metadata": {},
   "outputs": [],
   "source": [
    "X_train, X_test, y_train, y_test = train_test_split(features, labels, test_size=0.2)"
   ]
  },
  {
   "cell_type": "code",
   "execution_count": 10,
   "metadata": {},
   "outputs": [
    {
     "name": "stdout",
     "output_type": "stream",
     "text": [
      "[ 7.36855311e-01 -1.50972364e-03  6.44107794e-03  1.21533448e-02\n",
      " -1.12568141e-02 -2.78988578e-02  3.02570328e-01  1.08733209e-01\n",
      " -9.01783022e-02  1.65971666e-01  5.41017400e-02  3.11801619e-01\n",
      "  1.73059716e-01 -1.18278203e-01  2.85172658e-01 -1.81035103e-01\n",
      " -1.27797544e-01 -1.76584113e-01 -3.72833868e-02 -5.36875290e-03\n",
      " -1.92436738e-03  7.81586248e-03  2.01145408e-02 -6.24336664e-03\n",
      "  8.38900721e-03  2.02204863e-02  5.01830334e-03 -7.22898213e-04\n",
      "  1.94933077e-02 -2.11564245e-02]\n"
     ]
    }
   ],
   "source": [
    "size = len(features[0])\n",
    "w0 = np.array([1e-2]*size)\n",
    "#tol = 1e-6\n",
    "#err = 100\n",
    "num = 1e-6\n",
    "\n",
    "for i in range(5000000):\n",
    "    randElem = random.choice(data)\n",
    "    xi, yi = (randElem[1:],randElem[0])\n",
    "    g = 1 / (1 + math.exp(-np.dot(w0,xi)))\n",
    "    e = yi - g\n",
    "    w1 = w0 + num*e*xi\n",
    "    #err = np.linalg.norm(w1-w0)\n",
    "    w0 = np.copy(w1)\n",
    "print(w0)"
   ]
  },
  {
   "cell_type": "code",
   "execution_count": 5,
   "metadata": {
    "scrolled": false
   },
   "outputs": [],
   "source": [
    "predictions = []\n",
    "for x in X_test:\n",
    "    y = 1 / (1 + math.exp(-np.dot(w0,x)))\n",
    "    y = 1 if y>=0.5 else 0\n",
    "    predictions.append(y)\n",
    "predictions = np.array(predictions)"
   ]
  },
  {
   "cell_type": "code",
   "execution_count": 6,
   "metadata": {},
   "outputs": [],
   "source": [
    "matrix = confusion_matrix(y_test, predictions) \n",
    "ACA = accuracy_score(y_test, predictions) "
   ]
  },
  {
   "cell_type": "code",
   "execution_count": 9,
   "metadata": {},
   "outputs": [
    {
     "data": {
      "text/plain": [
       "array([[269, 589],\n",
       "       [  9, 803]], dtype=int64)"
      ]
     },
     "execution_count": 9,
     "metadata": {},
     "output_type": "execute_result"
    }
   ],
   "source": [
    "matrix"
   ]
  },
  {
   "cell_type": "code",
   "execution_count": 8,
   "metadata": {},
   "outputs": [
    {
     "data": {
      "text/plain": [
       "0.6419161676646706"
      ]
     },
     "execution_count": 8,
     "metadata": {},
     "output_type": "execute_result"
    }
   ],
   "source": [
    "ACA"
   ]
  },
  {
   "cell_type": "code",
   "execution_count": null,
   "metadata": {},
   "outputs": [],
   "source": []
  }
 ],
 "metadata": {
  "kernelspec": {
   "display_name": "Python 3",
   "language": "python",
   "name": "python3"
  },
  "language_info": {
   "codemirror_mode": {
    "name": "ipython",
    "version": 3
   },
   "file_extension": ".py",
   "mimetype": "text/x-python",
   "name": "python",
   "nbconvert_exporter": "python",
   "pygments_lexer": "ipython3",
   "version": "3.7.4"
  }
 },
 "nbformat": 4,
 "nbformat_minor": 2
}
