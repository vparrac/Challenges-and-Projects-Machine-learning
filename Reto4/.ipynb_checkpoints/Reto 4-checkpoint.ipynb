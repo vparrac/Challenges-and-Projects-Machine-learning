{
 "cells": [
  {
   "cell_type": "markdown",
   "metadata": {},
   "source": [
    "# Reto 3\n",
    "## Acondicionamiento de datos\n",
    "Antes de cargar los datos a python, se realizó un acondicionamiento de los datos. Para esto se eliminaron los géneros que no eran de nuestro interés, los atributos tipo String y se selecciono que Jazz & Blues era la clase 0 y Soul and Reggae era la clase 1."
   ]
  },
  {
   "cell_type": "code",
   "execution_count": 32,
   "metadata": {},
   "outputs": [
    {
     "name": "stdout",
     "output_type": "stream",
     "text": [
      "[[ 7.    0.27  0.36 ...  0.45  8.8   6.  ]\n",
      " [ 6.3   0.3   0.34 ...  0.49  9.5   6.  ]\n",
      " [ 8.1   0.28  0.4  ...  0.44 10.1   6.  ]\n",
      " ...\n",
      " [ 6.5   0.24  0.19 ...  0.46  9.4   6.  ]\n",
      " [ 5.5   0.29  0.3  ...  0.38 12.8   7.  ]\n",
      " [ 6.    0.21  0.38 ...  0.32 11.8   6.  ]]\n"
     ]
    }
   ],
   "source": [
    "import numpy as np\n",
    "from sklearn.metrics import mean_squared_error\n",
    "import random\n",
    "import pdb\n",
    "\n",
    "#importar los datos\n",
    "data = np.genfromtxt('white_wine_clean_data.csv', delimiter=';')\n",
    "print(data)"
   ]
  },
  {
   "cell_type": "code",
   "execution_count": 15,
   "metadata": {
    "scrolled": true
   },
   "outputs": [],
   "source": [
    "labels= data[:,-1]\n",
    "features = data[:,:-1]"
   ]
  },
  {
   "cell_type": "code",
   "execution_count": 16,
   "metadata": {},
   "outputs": [],
   "source": [
    "X_train, X_test, y_train, y_test = (lambda X, y: (X[:-2000],X[-2000:],y[:-2000],y[-2000:]))(features,labels)"
   ]
  },
  {
   "cell_type": "code",
   "execution_count": null,
   "metadata": {},
   "outputs": [],
   "source": [
    "size = len(features[0])\n",
    "w0 = np.array([1e-2]*size)\n",
    "tol = 1e-4\n",
    "err = 100\n",
    "num = 1e-6\n",
    "randElem = random.choice(data)\n",
    "xi, yi = (randElem[:-1],randElem[-1])\n",
    "print(xi, yi)\n",
    "\n",
    "while err>tol:\n",
    "    pdb.set_trace()\n",
    "    g = np.dot(w0,xi)\n",
    "    e = g - yi\n",
    "    w1 = w0 - num*e*xi\n",
    "    err = np.linalg.norm(w1-w0)\n",
    "    w0 = np.copy(w1)\n",
    "    print(err)\n",
    "print(w0)"
   ]
  },
  {
   "cell_type": "code",
   "execution_count": null,
   "metadata": {},
   "outputs": [],
   "source": []
  },
  {
   "cell_type": "code",
   "execution_count": null,
   "metadata": {},
   "outputs": [],
   "source": []
  }
 ],
 "metadata": {
  "kernelspec": {
   "display_name": "Python 3",
   "language": "python",
   "name": "python3"
  },
  "language_info": {
   "codemirror_mode": {
    "name": "ipython",
    "version": 3
   },
   "file_extension": ".py",
   "mimetype": "text/x-python",
   "name": "python",
   "nbconvert_exporter": "python",
   "pygments_lexer": "ipython3",
   "version": "3.7.4"
  }
 },
 "nbformat": 4,
 "nbformat_minor": 2
}
